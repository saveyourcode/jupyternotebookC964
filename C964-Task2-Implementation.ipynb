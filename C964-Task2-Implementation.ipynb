{
  "cells": [
    {
      "cell_type": "code",
      "execution_count": 1,
      "id": "3b5b8093",
      "metadata": {
        "id": "3b5b8093"
      },
      "outputs": [],
      "source": [
        "import pandas as pd\n",
        "import numpy as np\n",
        "import matplotlib.pyplot as plt\n",
        "import seaborn as sns\n",
        "\n",
        "from sklearn.model_selection import train_test_split\n",
        "from sklearn.ensemble import RandomForestClassifier\n",
        "from sklearn.tree import DecisionTreeClassifier\n",
        "from sklearn.neighbors import KNeighborsClassifier\n",
        "\n",
        "import ipywidgets as widget\n",
        "\n",
        "%matplotlib inline\n"
      ]
    },
    {
      "cell_type": "markdown",
      "id": "596a902d",
      "metadata": {
        "id": "596a902d"
      },
      "source": [
        "# Problem Definition\n",
        "\n",
        "The goal of this project is to predict customer churn for an internet service provider using customer characteristics. Customer churn is the number of customers that have cancelled their subscription in a given time period. This is a binary classification problem that will classify a customer as either likely to cancel or not cancel."
      ]
    },
    {
      "cell_type": "markdown",
      "id": "4df07567",
      "metadata": {
        "id": "4df07567"
      },
      "source": [
        "# Dataset\n",
        "\n",
        "The dataset used for this project is called Internet Service Provider Customer Churn and is located at Kaggle.com\n",
        "\n",
        "https://www.kaggle.com/datasets/mehmetsabrikunt/internet-service-churn"
      ]
    },
    {
      "cell_type": "markdown",
      "id": "54485034",
      "metadata": {
        "id": "54485034"
      },
      "source": [
        "# Evaluation\n",
        "\n",
        "The project will be pursued further if the model can predict customer churn with at least 90% accuracy."
      ]
    },
    {
      "cell_type": "markdown",
      "id": "8539bfab",
      "metadata": {
        "id": "8539bfab"
      },
      "source": [
        "# Data Features\n",
        "\n",
        "Below is a data dictionary that gives information about each feature of the dataset.\n",
        "\n",
        "1. \"id\" - This is a unique customer id; it is not used to train the model.   \n",
        "2. \"is_tv_subscriber\" - 1 means customer has tv subscription and 0 means they do not have a subscription.  \n",
        "3. \"is_movie_package_subscriber\" - 1 means customer has a movie package subscription and 0 means they do not.  \n",
        "4. \"subscription_age\" - A float value that is the age of the customer's account in years.  \n",
        "5. \"bill_avg\" - A float value that is the customer's average bill over the past three months.  \n",
        "6. \"remaining_contract\" - 1 means the customers has a contract with the company and 0 means they do not.  \n",
        "7. \"service_failure_count\" - An integer value that is the number times the customer's service failed over the past three months.  \n",
        "8. \"download_avg\" - A float value that is the customer's average download speed (in GB) over the last three months.  \n",
        "9. \"upload_avg\" - A float value that is the customer's average upload speed (in GB) over the last three months.  \n",
        "10. \"download_over_limit\" - An integer value that is the number of times the customer went over the their download limit over the past three months.  \n",
        "11. \"churn\" - This is the target column; 1 means the customer cancelled their service, 0 means that haven't cancelled.  "
      ]
    },
    {
      "cell_type": "code",
      "execution_count": 4,
      "id": "3934683f",
      "metadata": {
        "id": "3934683f"
      },
      "outputs": [],
      "source": [
        "data = pd.read_csv(\"https://raw.githubusercontent.com/saveyourcode/jupyternotebookC964/main/internet_service_churn.csv\")\n",
        "data_temp = data.copy()"
      ]
    },
    {
      "cell_type": "markdown",
      "id": "ef3db59c",
      "metadata": {
        "id": "ef3db59c"
      },
      "source": [
        "# Data Transformation\n",
        "\n",
        "In order to use the data to train the model it will be necessary to fill or remove any rows with missing values."
      ]
    },
    {
      "cell_type": "code",
      "execution_count": 5,
      "id": "14cdd6f0",
      "metadata": {
        "colab": {
          "base_uri": "https://localhost:8080/"
        },
        "id": "14cdd6f0",
        "outputId": "fa688590-bb22-4668-9bb1-19cfb916c53b"
      },
      "outputs": [
        {
          "output_type": "execute_result",
          "data": {
            "text/plain": [
              "id                                 0\n",
              "is_tv_subscriber                   0\n",
              "is_movie_package_subscriber        0\n",
              "subscription_age                   0\n",
              "bill_avg                           0\n",
              "remaining_contract             21572\n",
              "service_failure_count              0\n",
              "download_avg                     381\n",
              "upload_avg                       381\n",
              "download_over_limit                0\n",
              "churn                              0\n",
              "dtype: int64"
            ]
          },
          "metadata": {},
          "execution_count": 5
        }
      ],
      "source": [
        "# This shows the number of missing values in the data.\n",
        "data_temp.isna().sum()"
      ]
    },
    {
      "cell_type": "code",
      "execution_count": 6,
      "id": "f2637c5a",
      "metadata": {
        "id": "f2637c5a"
      },
      "outputs": [],
      "source": [
        "# This will replacing any missing values in the remaining_contract column with 0.\n",
        "data_temp[\"remaining_contract\"].fillna(0, inplace=True)\n",
        "data_temp.loc[data_temp[\"remaining_contract\"] != 0, \"remaining_contract\"] = 1\n"
      ]
    },
    {
      "cell_type": "code",
      "execution_count": 7,
      "id": "cb9c4dc6",
      "metadata": {
        "id": "cb9c4dc6"
      },
      "outputs": [],
      "source": [
        "# This will drop the rows containing missing values in the download average and upload average columns.\n",
        "data_temp.dropna(subset=[\"download_avg\"], inplace=True)\n",
        "data_temp.dropna(subset=[\"upload_avg\"], inplace=True)"
      ]
    },
    {
      "cell_type": "code",
      "execution_count": 8,
      "id": "b6c1cded",
      "metadata": {
        "colab": {
          "base_uri": "https://localhost:8080/"
        },
        "id": "b6c1cded",
        "outputId": "581a5dc5-bfbb-4b17-9474-0d87634473c7"
      },
      "outputs": [
        {
          "output_type": "execute_result",
          "data": {
            "text/plain": [
              "id                             0\n",
              "is_tv_subscriber               0\n",
              "is_movie_package_subscriber    0\n",
              "subscription_age               0\n",
              "bill_avg                       0\n",
              "remaining_contract             0\n",
              "service_failure_count          0\n",
              "download_avg                   0\n",
              "upload_avg                     0\n",
              "download_over_limit            0\n",
              "churn                          0\n",
              "dtype: int64"
            ]
          },
          "metadata": {},
          "execution_count": 8
        }
      ],
      "source": [
        "# Now the data contains no missing values and is reading for training and testing.\n",
        "data_temp.isna().sum()"
      ]
    },
    {
      "cell_type": "markdown",
      "id": "afb468bc",
      "metadata": {
        "id": "afb468bc"
      },
      "source": [
        "# Data Visualization\n",
        "\n",
        "The dataset contains over 70,000 rows so it is helpful to use data visualization techniques to help identify trends in the data."
      ]
    },
    {
      "cell_type": "markdown",
      "id": "01638239",
      "metadata": {
        "id": "01638239"
      },
      "source": [
        "### How does a customer having a tv or movie package subscription effect the churn rate?"
      ]
    },
    {
      "cell_type": "code",
      "execution_count": 9,
      "id": "1065df5c",
      "metadata": {
        "colab": {
          "base_uri": "https://localhost:8080/",
          "height": 675
        },
        "id": "1065df5c",
        "outputId": "0c976855-bf4c-4dfb-9d77-7410bccc8f16"
      },
      "outputs": [
        {
          "output_type": "display_data",
          "data": {
            "text/plain": [
              "<Figure size 720x360 with 1 Axes>"
            ],
            "image/png": "[encoded data removed]"
          },
          "metadata": {
            "needs_background": "light"
          }
        },
        {
          "output_type": "display_data",
          "data": {
            "text/plain": [
              "<Figure size 720x360 with 1 Axes>"
            ],
            "image/png": "[encoded data removed]"
          },
          "metadata": {
            "needs_background": "light"
          }
        }
      ],
      "source": [
        "\n",
        "pd.crosstab(data_temp[\"churn\"], data_temp[\"is_tv_subscriber\"]).plot(kind=\"bar\",\n",
        "                                                                    title=\"Churn of television package subscribers\",\n",
        "                                                                   figsize=(10,5));\n",
        "pd.crosstab(data_temp[\"churn\"], data_temp[\"is_movie_package_subscriber\"]).plot(kind=\"bar\",\n",
        "                                                                               title=\"Churn of movie package subscribers\",\n",
        "                                                                              figsize=(10,5));\n"
      ]
    },
    {
      "cell_type": "markdown",
      "id": "47213d8f",
      "metadata": {
        "id": "47213d8f"
      },
      "source": [
        "#### These two graphs compare the churn rate for customers based on whether or not they have a tv or movie package subcription. The graphs seem to suggest that the churn rate is similar for customer regardless of if they had a tv subcrciption or not. The graphs also suggest that a movie package subcription may be important for customer retention as the churn rate for customer with a movie subscription is lower than for customers without one."
      ]
    },
    {
      "cell_type": "code",
      "execution_count": 10,
      "id": "5d0f47d8",
      "metadata": {
        "colab": {
          "base_uri": "https://localhost:8080/",
          "height": 404
        },
        "id": "5d0f47d8",
        "outputId": "c0e42225-67e8-4e61-899d-d7b07e72e3a8"
      },
      "outputs": [
        {
          "output_type": "display_data",
          "data": {
            "text/plain": [
              "<Figure size 720x432 with 1 Axes>"
            ],
            "image/png": "[encoded data removed]"
          },
          "metadata": {
            "needs_background": "light"
          }
        }
      ],
      "source": [
        "plt.figure(figsize=(10,6))\n",
        "\n",
        "plt.scatter(data_temp[\"download_avg\"][data_temp[\"churn\"]==0],\n",
        "                                      data_temp[\"upload_avg\"][data_temp[\"churn\"]==0],\n",
        "           c = \"salmon\");\n",
        "\n",
        "plt.scatter(data_temp[\"download_avg\"][data_temp[\"churn\"]==1],\n",
        "                                      data_temp[\"upload_avg\"][data_temp[\"churn\"]==1],\n",
        "           c = \"lightblue\")\n",
        "plt.title(\"Churn Rate Based on Customer's Average Upload and Download Speeds\")\n",
        "plt.xlabel(\"Average Download Speed\")\n",
        "plt.ylabel(\"Avergae Upload Speed\")\n",
        "plt.legend([\"No Churn\", \"Churn\"]);\n"
      ]
    },
    {
      "cell_type": "markdown",
      "id": "55e8180c",
      "metadata": {
        "id": "55e8180c"
      },
      "source": [
        "#### This scatter chart compares a customer's average upload and download speed and whether or not they cancelled their subscription.  Typical internet subcriptions have higher downlaod than upload speeds but usually paying for an increase in one results in an increase in the other. The scatter graph doesn't show much of a trend in the data suggesting the customer's download and upload speeds doesn't effect the churn rate. "
      ]
    },
    {
      "cell_type": "code",
      "execution_count": 11,
      "id": "5937c69d",
      "metadata": {
        "colab": {
          "base_uri": "https://localhost:8080/",
          "height": 405
        },
        "id": "5937c69d",
        "outputId": "046f9bd6-58f3-429a-b6a5-527dd4facf18"
      },
      "outputs": [
        {
          "output_type": "display_data",
          "data": {
            "text/plain": [
              "<Figure size 720x432 with 1 Axes>"
            ],
            "image/png": "[encoded data removed]"
          },
          "metadata": {
            "needs_background": "light"
          }
        }
      ],
      "source": [
        "plt.figure(figsize=(10,6))\n",
        "\n",
        "sns.histplot(data=data_temp, x=\"subscription_age\", hue=\"churn\")\n",
        "\n",
        "plt.title(\"Churn Rate Based on Customer's Subscription Age\");"
      ]
    },
    {
      "cell_type": "markdown",
      "id": "e8de59ec",
      "metadata": {
        "id": "e8de59ec"
      },
      "source": [
        "#### This histogram shows the churn rate for customer's subscriptions compared to the customer's account age. The trend appears to be that newer accounts are more likely to churn."
      ]
    },
    {
      "cell_type": "code",
      "execution_count": 12,
      "id": "dead1b7f",
      "metadata": {
        "colab": {
          "base_uri": "https://localhost:8080/",
          "height": 407
        },
        "id": "dead1b7f",
        "outputId": "0f956bad-6827-45fd-9548-774bc613756b"
      },
      "outputs": [
        {
          "output_type": "display_data",
          "data": {
            "text/plain": [
              "<Figure size 432x288 with 2 Axes>"
            ],
            "image/png": "[encoded data removed]"
          },
          "metadata": {
            "needs_background": "light"
          }
        }
      ],
      "source": [
        "cm = data_temp.corr()\n",
        "sns.heatmap(cm,\n",
        "           annot=True,\n",
        "           linewidth=0.5,\n",
        "           fmt= \"0.2f\");"
      ]
    },
    {
      "cell_type": "markdown",
      "id": "b376ab44",
      "metadata": {
        "id": "b376ab44"
      },
      "source": [
        "#### This heatmap shows the correlation between the features and shows how they may impact the target variable (customer churn). The heat map shows the features with the greatest correlation with churn are the number of service failures and the number of times over the download limit."
      ]
    },
    {
      "cell_type": "markdown",
      "id": "d7acc980",
      "metadata": {
        "id": "d7acc980"
      },
      "source": [
        "# Model Training and Testing"
      ]
    },
    {
      "cell_type": "markdown",
      "id": "2cacd021",
      "metadata": {
        "id": "2cacd021"
      },
      "source": [
        "#### There are many different machine learning algorithms for classification problems whose preformance can vary depending on the size of the dataset, the kind of data (text versus numeric), and if the data is labeled or not.  For the classification problem addressed in this project, three potential algorithms will be compared; the random forest classifier, the k nearest neighbors classifer, and the decision tree classifier. Which ever model has the highest accuracy score will be used in the application to allow users to make predictions about customer churn. "
      ]
    },
    {
      "cell_type": "code",
      "execution_count": 13,
      "id": "82cfacff",
      "metadata": {
        "id": "82cfacff"
      },
      "outputs": [],
      "source": [
        "# Split the data into x and y sets; x contains the independent features to train the model and y contains the feature we are trying to predict\n",
        "\n",
        "x = data_temp.drop(labels=[\"id\", \"churn\"], axis=1).values\n",
        "y = data_temp[\"churn\"].values"
      ]
    },
    {
      "cell_type": "code",
      "execution_count": 14,
      "id": "ac49a692",
      "metadata": {
        "id": "ac49a692"
      },
      "outputs": [],
      "source": [
        "# Use the x and y datasets to create training and test splits.\n",
        "\n",
        "x_train, x_test, y_train, y_test = train_test_split(x, y, test_size=0.2)\n"
      ]
    },
    {
      "cell_type": "code",
      "execution_count": 15,
      "id": "fe8a9007",
      "metadata": {
        "colab": {
          "base_uri": "https://localhost:8080/"
        },
        "id": "fe8a9007",
        "outputId": "52934526-d4b3-43b4-c0b3-583c03f785b9"
      },
      "outputs": [
        {
          "output_type": "execute_result",
          "data": {
            "text/plain": [
              "DecisionTreeClassifier()"
            ]
          },
          "metadata": {},
          "execution_count": 15
        }
      ],
      "source": [
        "# Create instances of the models and train them.\n",
        "np.random.seed(42)\n",
        "\n",
        "rfc = RandomForestClassifier()\n",
        "knn = KNeighborsClassifier()\n",
        "dtc = DecisionTreeClassifier()\n",
        "\n",
        "rfc.fit(x_train, y_train)\n",
        "knn.fit(x_train, y_train)\n",
        "dtc.fit(x_train, y_train)"
      ]
    },
    {
      "cell_type": "code",
      "execution_count": 16,
      "id": "76b67e51",
      "metadata": {
        "colab": {
          "base_uri": "https://localhost:8080/",
          "height": 274
        },
        "id": "76b67e51",
        "outputId": "5e5112a6-e61e-414a-fff0-8e448067805d"
      },
      "outputs": [
        {
          "output_type": "display_data",
          "data": {
            "text/plain": [
              "<Figure size 432x288 with 1 Axes>"
            ],
            "image/png": "[encoded data removed]"
          },
          "metadata": {
            "needs_background": "light"
          }
        }
      ],
      "source": [
        "# Compare the accuracy scores of the models.\n",
        "\n",
        "model_scores = {\"rfc\": rfc.score(x_test, y_test),\n",
        "               \"knn\": knn.score(x_test, y_test),\n",
        "               \"dtc\": dtc.score(x_test, y_test)\n",
        "               }\n",
        "\n",
        "model_scores\n",
        "pd.DataFrame(model_scores, index=[\"accuracy\"]).T.plot(kind=\"bar\");"
      ]
    },
    {
      "cell_type": "code",
      "execution_count": 17,
      "id": "44338ba9",
      "metadata": {
        "id": "44338ba9"
      },
      "outputs": [],
      "source": [
        "forest_importances = pd.Series(rfc.feature_importances_, index=data_temp.columns.drop([\"id\", \"churn\"]))"
      ]
    },
    {
      "cell_type": "code",
      "execution_count": 18,
      "id": "247e58d7",
      "metadata": {
        "colab": {
          "base_uri": "https://localhost:8080/",
          "height": 419
        },
        "id": "247e58d7",
        "outputId": "78335bb8-0312-47e7-cf4a-87eede882f76"
      },
      "outputs": [
        {
          "output_type": "display_data",
          "data": {
            "text/plain": [
              "<Figure size 432x288 with 1 Axes>"
            ],
            "image/png": "[encoded data removed]"
          },
          "metadata": {
            "needs_background": "light"
          }
        }
      ],
      "source": [
        "fig, ax = plt.subplots()\n",
        "forest_importances.plot.bar()\n",
        "ax.set_title(\"Feature Importance of the Random Forest Classifier\");"
      ]
    },
    {
      "cell_type": "markdown",
      "id": "64cda120",
      "metadata": {
        "id": "64cda120"
      },
      "source": [
        "#### This shows that the most important feature to the model's prediction is whether or not the customer has a contract with the company."
      ]
    },
    {
      "cell_type": "markdown",
      "id": "174b5d8f",
      "metadata": {
        "id": "174b5d8f"
      },
      "source": [
        "# Use the Model to Make Predictions"
      ]
    },
    {
      "cell_type": "markdown",
      "id": "42ff8747",
      "metadata": {
        "id": "42ff8747"
      },
      "source": [
        "#### The Random forest Classifier model was the most accurate so it will be chosen to used in the application to make predictions about customer churn."
      ]
    },
    {
      "cell_type": "code",
      "execution_count": 19,
      "id": "43552b01",
      "metadata": {
        "id": "43552b01"
      },
      "outputs": [],
      "source": [
        "# These are the functions that enable the function to return a prediction. The return_prediction function takes the users \n",
        "# choices inputted to the appliaction and uses them as the parameters for the model to make a precition. The button_clicked\n",
        "# function calls the return_prediction function when pressed by the user and their inputted values are used to make a \n",
        "# prediction that is outputted to the UI so the user can view i\n",
        "\n",
        "def button_clicked(b):\n",
        "    with output:\n",
        "        output.clear_output()\n",
        "        print(\" \")\n",
        "        print(return_prediction(model=rfc, a=tv_sub.value, b=movie_sub.value, c=sub_age.value, d=bill_avg.value,\n",
        "                                         e=remain_cont.value, f=serv_fail.value, g=down_avg.value, h=up_avg.value,\n",
        "                                         i=over_limit.value))\n",
        "        \n",
        "def return_prediction(model, a, b, c, d, e, f, g, h, i):\n",
        "    \n",
        "    items = [[a,b,c,d,e,f,g,h,i]]\n",
        "    predict = model.predict(items)\n",
        "        \n",
        "    if predict[0] == 1:\n",
        "        return \"This customer is most likely going to cancel their subscription\"\n",
        "    else:\n",
        "        return \"This customer is unlikely to cancel their subscription.\""
      ]
    },
    {
      "cell_type": "code",
      "execution_count": 20,
      "id": "99d318a8",
      "metadata": {
        "id": "99d318a8"
      },
      "outputs": [],
      "source": [
        "# This code sets up each input widget and places them in a vertical box with a submit button.\n",
        "\n",
        "style = {'description_width': '150px'}\n",
        "layout = {'width': 'auto'}\n",
        "\n",
        "tv_sub = widget.Checkbox(\n",
        "    value=False,\n",
        "    description='Tv Subscriber',\n",
        "    disabled=False,\n",
        "    style = style,\n",
        "    indent=False)\n",
        "\n",
        "movie_sub = widget.Checkbox(\n",
        "    Value=False,\n",
        "    description = \"Movie Subscriber\",\n",
        "    style = style,\n",
        "    disabled=False,\n",
        "    indent=False)\n",
        "\n",
        "sub_age = widget.BoundedFloatText(\n",
        "    value=0,\n",
        "    min = 0,\n",
        "    description=\"Subscription Age\",\n",
        "    style = style,\n",
        "    disabled=False)\n",
        "\n",
        "bill_avg = widget.BoundedFloatText(\n",
        "    value=0,\n",
        "    min = 0,\n",
        "    description = \"Bill Average\",\n",
        "    style = style,\n",
        "    disabled=False)\n",
        "\n",
        "remain_cont = widget.Checkbox(\n",
        "    value=False,\n",
        "    description=\"Remaining Contract\",\n",
        "    disabled=False,\n",
        "    style = style,\n",
        "    indent=False)\n",
        "\n",
        "serv_fail = widget.BoundedIntText(\n",
        "    value=0,\n",
        "    min = 0,\n",
        "    description=\"Service Failure Count\",\n",
        "    style = style,\n",
        "    disabled=False\n",
        ")\n",
        "\n",
        "down_avg = widget.BoundedFloatText(\n",
        "    value=0,\n",
        "    min=0,\n",
        "    description=\"Download Average\",\n",
        "    style = style,\n",
        "    disabled=False)\n",
        "\n",
        "up_avg = widget.BoundedFloatText(\n",
        "    value=0,\n",
        "    min=0,\n",
        "    description=\"Upload Average\",\n",
        "    style=style,\n",
        "    disabled=False)\n",
        "\n",
        "over_limit = widget.BoundedIntText(\n",
        "    value=0,\n",
        "    min=0,\n",
        "    description=\"Download Over Limit\",\n",
        "    disabled=False,\n",
        "    style = style)\n",
        "\n",
        "submit_button = widget.Button(description=\"Predict Churn\")\n",
        "output = widget.Output()\n",
        "title = widget.HTML(value=\"<h2>Customer Churn Prediction Application</h2>\")\n",
        "submit_button.on_click(button_clicked)\n",
        "\n",
        "vbox0 = widget.VBox([title, sub_age, bill_avg, serv_fail, down_avg, up_avg, over_limit, tv_sub, movie_sub, remain_cont, \n",
        "                     submit_button, output])"
      ]
    },
    {
      "cell_type": "code",
      "execution_count": 21,
      "id": "9f7c168f",
      "metadata": {
        "colab": {
          "base_uri": "https://localhost:8080/",
          "height": 428,
          "referenced_widgets": [
            "d6da5cb2e25d4b158a719f6e62cf80bf",
            "bdd7998bc89e4a2f9350f57f684ff7d4",
            "23a76c28e5924a7d953b4697593ee564",
            "6837b89a5f2441128793edfb22bf3144",
            "532c841fb8434fa8819f99fc8079dbe4",
            "0a4fd294b72146a98c614615e878ef73",
            "46a00941b89c468c920be25faf92a403",
            "c010eb0447a14774ac235593f2732a6c",
            "64bbf66d61e74fd4a965556a13ea0cb7",
            "da59671034c74f1f89361b4cb5771279",
            "38bbe8ce39de4a5388636252b73162af",
            "8deefd6142d242738364822df3dbdb41",
            "a84c1c121a6047ddb17df6e9c43aad5b",
            "01e9226cf69848f38bd3f62fe56d7470",
            "a76861cc7ac14001a25248a0086465d4",
            "9653e428ede649f2ad0c6f48d7aebe8b",
            "5e58d3d75e1843e8b3803464b5ebadce",
            "1fbad93665fb48b4a045c911fd851734",
            "7d4adfc2d19b4d0c9b869b5469c281ff",
            "d254e5ebd09747e09712d7cd76ffda7b",
            "1e574f177229448c849dd59868a8ecf2",
            "2b135b97cc264e1fb18434b67578e9f9",
            "18d47d1929ff4c249d13230b2c63983e",
            "feaa6d9fd663460abf52a82aead4f9d4",
            "7626e60ded6f452db7e9a7b2cc407d32",
            "eebb9652be18409a8cd9a5d6c4815a82",
            "63949f941e9e4fffb96897a5e5cbb905",
            "cd7b37ddcb064c8594656b9d279da57e",
            "4ecbad205f534f0cb705e9f2b83f1f71",
            "0fd5da7832174892be31470a48a76c21",
            "de0b85bb0f684782a8adf75635a68182",
            "674f9581e51b49658d0e991a1d335a8c",
            "7bc83d8104c14a00b9fb3912cfbf8d81",
            "501e68ac406540208096316e601304dc",
            "798a4de76ced4d8a9cfb22d8a8f8b69e",
            "3b739814712b4e7b9511118a55919364",
            "d30d26643b9646c1b6f1a1cdee876c5f"
          ]
        },
        "id": "9f7c168f",
        "outputId": "4e25b3a2-a7d3-4861-f4af-24986b6cbcf9"
      },
      "outputs": [
        {
          "output_type": "display_data",
          "data": {
            "text/plain": [
              "VBox(children=(HTML(value='<h2>Customer Churn Prediction Application</h2>'), BoundedFloatText(value=0.0, descr…"
            ],
            "application/vnd.jupyter.widget-view+json": {
              "version_major": 2,
              "version_minor": 0,
              "model_id": "d6da5cb2e25d4b158a719f6e62cf80bf"
            }
          },
          "metadata": {}
        }
      ],
      "source": [
        "display(vbox0)"
      ]
    }
  ],
  "metadata": {
    "kernelspec": {
      "display_name": "Python 3 (ipykernel)",
      "language": "python",
      "name": "python3"
    },
    "language_info": {
      "codemirror_mode": {
        "name": "ipython",
        "version": 3
      },
      "file_extension": ".py",
      "mimetype": "text/x-python",
      "name": "python",
      "nbconvert_exporter": "python",
      "pygments_lexer": "ipython3",
      "version": "3.10.6"
    },
    "colab": {
      "provenance": []
    },
    "widgets": {
      "application/vnd.jupyter.widget-state+json": {
        "d6da5cb2e25d4b158a719f6e62cf80bf": {
          "model_module": "@jupyter-widgets/controls",
          "model_name": "VBoxModel",
          "model_module_version": "1.5.0",
          "state": {
            "_dom_classes": [],
            "_model_module": "@jupyter-widgets/controls",
            "_model_module_version": "1.5.0",
            "_model_name": "VBoxModel",
            "_view_count": null,
            "_view_module": "@jupyter-widgets/controls",
            "_view_module_version": "1.5.0",
            "_view_name": "VBoxView",
            "box_style": "",
            "children": [
              "IPY_MODEL_bdd7998bc89e4a2f9350f57f684ff7d4",
              "IPY_MODEL_23a76c28e5924a7d953b4697593ee564",
              "IPY_MODEL_6837b89a5f2441128793edfb22bf3144",
              "IPY_MODEL_532c841fb8434fa8819f99fc8079dbe4",
              "IPY_MODEL_0a4fd294b72146a98c614615e878ef73",
              "IPY_MODEL_46a00941b89c468c920be25faf92a403",
              "IPY_MODEL_c010eb0447a14774ac235593f2732a6c",
              "IPY_MODEL_64bbf66d61e74fd4a965556a13ea0cb7",
              "IPY_MODEL_da59671034c74f1f89361b4cb5771279",
              "IPY_MODEL_38bbe8ce39de4a5388636252b73162af",
              "IPY_MODEL_8deefd6142d242738364822df3dbdb41",
              "IPY_MODEL_a84c1c121a6047ddb17df6e9c43aad5b"
            ],
            "layout": "IPY_MODEL_01e9226cf69848f38bd3f62fe56d7470"
          }
        },
        "bdd7998bc89e4a2f9350f57f684ff7d4": {
          "model_module": "@jupyter-widgets/controls",
          "model_name": "HTMLModel",
          "model_module_version": "1.5.0",
          "state": {
            "_dom_classes": [],
            "_model_module": "@jupyter-widgets/controls",
            "_model_module_version": "1.5.0",
            "_model_name": "HTMLModel",
            "_view_count": null,
            "_view_module": "@jupyter-widgets/controls",
            "_view_module_version": "1.5.0",
            "_view_name": "HTMLView",
            "description": "",
            "description_tooltip": null,
            "layout": "IPY_MODEL_a76861cc7ac14001a25248a0086465d4",
            "placeholder": "​",
            "style": "IPY_MODEL_9653e428ede649f2ad0c6f48d7aebe8b",
            "value": "<h2>Customer Churn Prediction Application</h2>"
          }
        },
        "23a76c28e5924a7d953b4697593ee564": {
          "model_module": "@jupyter-widgets/controls",
          "model_name": "BoundedFloatTextModel",
          "model_module_version": "1.5.0",
          "state": {
            "_dom_classes": [],
            "_model_module": "@jupyter-widgets/controls",
            "_model_module_version": "1.5.0",
            "_model_name": "BoundedFloatTextModel",
            "_view_count": null,
            "_view_module": "@jupyter-widgets/controls",
            "_view_module_version": "1.5.0",
            "_view_name": "FloatTextView",
            "continuous_update": false,
            "description": "Subscription Age",
            "description_tooltip": null,
            "disabled": false,
            "layout": "IPY_MODEL_5e58d3d75e1843e8b3803464b5ebadce",
            "max": 100,
            "min": 0,
            "step": null,
            "style": "IPY_MODEL_1fbad93665fb48b4a045c911fd851734",
            "value": 0
          }
        },
        "6837b89a5f2441128793edfb22bf3144": {
          "model_module": "@jupyter-widgets/controls",
          "model_name": "BoundedFloatTextModel",
          "model_module_version": "1.5.0",
          "state": {
            "_dom_classes": [],
            "_model_module": "@jupyter-widgets/controls",
            "_model_module_version": "1.5.0",
            "_model_name": "BoundedFloatTextModel",
            "_view_count": null,
            "_view_module": "@jupyter-widgets/controls",
            "_view_module_version": "1.5.0",
            "_view_name": "FloatTextView",
            "continuous_update": false,
            "description": "Bill Average",
            "description_tooltip": null,
            "disabled": false,
            "layout": "IPY_MODEL_7d4adfc2d19b4d0c9b869b5469c281ff",
            "max": 100,
            "min": 0,
            "step": null,
            "style": "IPY_MODEL_d254e5ebd09747e09712d7cd76ffda7b",
            "value": 0
          }
        },
        "532c841fb8434fa8819f99fc8079dbe4": {
          "model_module": "@jupyter-widgets/controls",
          "model_name": "BoundedIntTextModel",
          "model_module_version": "1.5.0",
          "state": {
            "_dom_classes": [],
            "_model_module": "@jupyter-widgets/controls",
            "_model_module_version": "1.5.0",
            "_model_name": "BoundedIntTextModel",
            "_view_count": null,
            "_view_module": "@jupyter-widgets/controls",
            "_view_module_version": "1.5.0",
            "_view_name": "IntTextView",
            "continuous_update": false,
            "description": "Service Failure Count",
            "description_tooltip": null,
            "disabled": false,
            "layout": "IPY_MODEL_1e574f177229448c849dd59868a8ecf2",
            "max": 100,
            "min": 0,
            "step": 1,
            "style": "IPY_MODEL_2b135b97cc264e1fb18434b67578e9f9",
            "value": 45
          }
        },
        "0a4fd294b72146a98c614615e878ef73": {
          "model_module": "@jupyter-widgets/controls",
          "model_name": "BoundedFloatTextModel",
          "model_module_version": "1.5.0",
          "state": {
            "_dom_classes": [],
            "_model_module": "@jupyter-widgets/controls",
            "_model_module_version": "1.5.0",
            "_model_name": "BoundedFloatTextModel",
            "_view_count": null,
            "_view_module": "@jupyter-widgets/controls",
            "_view_module_version": "1.5.0",
            "_view_name": "FloatTextView",
            "continuous_update": false,
            "description": "Download Average",
            "description_tooltip": null,
            "disabled": false,
            "layout": "IPY_MODEL_18d47d1929ff4c249d13230b2c63983e",
            "max": 100,
            "min": 0,
            "step": null,
            "style": "IPY_MODEL_feaa6d9fd663460abf52a82aead4f9d4",
            "value": 0
          }
        },
        "46a00941b89c468c920be25faf92a403": {
          "model_module": "@jupyter-widgets/controls",
          "model_name": "BoundedFloatTextModel",
          "model_module_version": "1.5.0",
          "state": {
            "_dom_classes": [],
            "_model_module": "@jupyter-widgets/controls",
            "_model_module_version": "1.5.0",
            "_model_name": "BoundedFloatTextModel",
            "_view_count": null,
            "_view_module": "@jupyter-widgets/controls",
            "_view_module_version": "1.5.0",
            "_view_name": "FloatTextView",
            "continuous_update": false,
            "description": "Upload Average",
            "description_tooltip": null,
            "disabled": false,
            "layout": "IPY_MODEL_7626e60ded6f452db7e9a7b2cc407d32",
            "max": 100,
            "min": 0,
            "step": null,
            "style": "IPY_MODEL_eebb9652be18409a8cd9a5d6c4815a82",
            "value": 0
          }
        },
        "c010eb0447a14774ac235593f2732a6c": {
          "model_module": "@jupyter-widgets/controls",
          "model_name": "BoundedIntTextModel",
          "model_module_version": "1.5.0",
          "state": {
            "_dom_classes": [],
            "_model_module": "@jupyter-widgets/controls",
            "_model_module_version": "1.5.0",
            "_model_name": "BoundedIntTextModel",
            "_view_count": null,
            "_view_module": "@jupyter-widgets/controls",
            "_view_module_version": "1.5.0",
            "_view_name": "IntTextView",
            "continuous_update": false,
            "description": "Download Over Limit",
            "description_tooltip": null,
            "disabled": false,
            "layout": "IPY_MODEL_63949f941e9e4fffb96897a5e5cbb905",
            "max": 100,
            "min": 0,
            "step": 1,
            "style": "IPY_MODEL_cd7b37ddcb064c8594656b9d279da57e",
            "value": 0
          }
        },
        "64bbf66d61e74fd4a965556a13ea0cb7": {
          "model_module": "@jupyter-widgets/controls",
          "model_name": "CheckboxModel",
          "model_module_version": "1.5.0",
          "state": {
            "_dom_classes": [],
            "_model_module": "@jupyter-widgets/controls",
            "_model_module_version": "1.5.0",
            "_model_name": "CheckboxModel",
            "_view_count": null,
            "_view_module": "@jupyter-widgets/controls",
            "_view_module_version": "1.5.0",
            "_view_name": "CheckboxView",
            "description": "Tv Subscriber",
            "description_tooltip": null,
            "disabled": false,
            "indent": false,
            "layout": "IPY_MODEL_4ecbad205f534f0cb705e9f2b83f1f71",
            "style": "IPY_MODEL_0fd5da7832174892be31470a48a76c21",
            "value": true
          }
        },
        "da59671034c74f1f89361b4cb5771279": {
          "model_module": "@jupyter-widgets/controls",
          "model_name": "CheckboxModel",
          "model_module_version": "1.5.0",
          "state": {
            "_dom_classes": [],
            "_model_module": "@jupyter-widgets/controls",
            "_model_module_version": "1.5.0",
            "_model_name": "CheckboxModel",
            "_view_count": null,
            "_view_module": "@jupyter-widgets/controls",
            "_view_module_version": "1.5.0",
            "_view_name": "CheckboxView",
            "description": "Movie Subscriber",
            "description_tooltip": null,
            "disabled": false,
            "indent": false,
            "layout": "IPY_MODEL_de0b85bb0f684782a8adf75635a68182",
            "style": "IPY_MODEL_674f9581e51b49658d0e991a1d335a8c",
            "value": true
          }
        },
        "38bbe8ce39de4a5388636252b73162af": {
          "model_module": "@jupyter-widgets/controls",
          "model_name": "CheckboxModel",
          "model_module_version": "1.5.0",
          "state": {
            "_dom_classes": [],
            "_model_module": "@jupyter-widgets/controls",
            "_model_module_version": "1.5.0",
            "_model_name": "CheckboxModel",
            "_view_count": null,
            "_view_module": "@jupyter-widgets/controls",
            "_view_module_version": "1.5.0",
            "_view_name": "CheckboxView",
            "description": "Remaining Contract",
            "description_tooltip": null,
            "disabled": false,
            "indent": false,
            "layout": "IPY_MODEL_7bc83d8104c14a00b9fb3912cfbf8d81",
            "style": "IPY_MODEL_501e68ac406540208096316e601304dc",
            "value": false
          }
        },
        "8deefd6142d242738364822df3dbdb41": {
          "model_module": "@jupyter-widgets/controls",
          "model_name": "ButtonModel",
          "model_module_version": "1.5.0",
          "state": {
            "_dom_classes": [],
            "_model_module": "@jupyter-widgets/controls",
            "_model_module_version": "1.5.0",
            "_model_name": "ButtonModel",
            "_view_count": null,
            "_view_module": "@jupyter-widgets/controls",
            "_view_module_version": "1.5.0",
            "_view_name": "ButtonView",
            "button_style": "",
            "description": "Predict Churn",
            "disabled": false,
            "icon": "",
            "layout": "IPY_MODEL_798a4de76ced4d8a9cfb22d8a8f8b69e",
            "style": "IPY_MODEL_3b739814712b4e7b9511118a55919364",
            "tooltip": ""
          }
        },
        "a84c1c121a6047ddb17df6e9c43aad5b": {
          "model_module": "@jupyter-widgets/output",
          "model_name": "OutputModel",
          "model_module_version": "1.0.0",
          "state": {
            "_dom_classes": [],
            "_model_module": "@jupyter-widgets/output",
            "_model_module_version": "1.0.0",
            "_model_name": "OutputModel",
            "_view_count": null,
            "_view_module": "@jupyter-widgets/output",
            "_view_module_version": "1.0.0",
            "_view_name": "OutputView",
            "layout": "IPY_MODEL_d30d26643b9646c1b6f1a1cdee876c5f",
            "msg_id": "",
            "outputs": [
              {
                "output_type": "stream",
                "name": "stdout",
                "text": [
                  " \n",
                  "This customer is most likely going to cancel their subscription\n"
                ]
              }
            ]
          }
        },
        "01e9226cf69848f38bd3f62fe56d7470": {
          "model_module": "@jupyter-widgets/base",
          "model_name": "LayoutModel",
          "model_module_version": "1.2.0",
          "state": {
            "_model_module": "@jupyter-widgets/base",
            "_model_module_version": "1.2.0",
            "_model_name": "LayoutModel",
            "_view_count": null,
            "_view_module": "@jupyter-widgets/base",
            "_view_module_version": "1.2.0",
            "_view_name": "LayoutView",
            "align_content": null,
            "align_items": null,
            "align_self": null,
            "border": null,
            "bottom": null,
            "display": null,
            "flex": null,
            "flex_flow": null,
            "grid_area": null,
            "grid_auto_columns": null,
            "grid_auto_flow": null,
            "grid_auto_rows": null,
            "grid_column": null,
            "grid_gap": null,
            "grid_row": null,
            "grid_template_areas": null,
            "grid_template_columns": null,
            "grid_template_rows": null,
            "height": null,
            "justify_content": null,
            "justify_items": null,
            "left": null,
            "margin": null,
            "max_height": null,
            "max_width": null,
            "min_height": null,
            "min_width": null,
            "object_fit": null,
            "object_position": null,
            "order": null,
            "overflow": null,
            "overflow_x": null,
            "overflow_y": null,
            "padding": null,
            "right": null,
            "top": null,
            "visibility": null,
            "width": null
          }
        },
        "a76861cc7ac14001a25248a0086465d4": {
          "model_module": "@jupyter-widgets/base",
          "model_name": "LayoutModel",
          "model_module_version": "1.2.0",
          "state": {
            "_model_module": "@jupyter-widgets/base",
            "_model_module_version": "1.2.0",
            "_model_name": "LayoutModel",
            "_view_count": null,
            "_view_module": "@jupyter-widgets/base",
            "_view_module_version": "1.2.0",
            "_view_name": "LayoutView",
            "align_content": null,
            "align_items": null,
            "align_self": null,
            "border": null,
            "bottom": null,
            "display": null,
            "flex": null,
            "flex_flow": null,
            "grid_area": null,
            "grid_auto_columns": null,
            "grid_auto_flow": null,
            "grid_auto_rows": null,
            "grid_column": null,
            "grid_gap": null,
            "grid_row": null,
            "grid_template_areas": null,
            "grid_template_columns": null,
            "grid_template_rows": null,
            "height": null,
            "justify_content": null,
            "justify_items": null,
            "left": null,
            "margin": null,
            "max_height": null,
            "max_width": null,
            "min_height": null,
            "min_width": null,
            "object_fit": null,
            "object_position": null,
            "order": null,
            "overflow": null,
            "overflow_x": null,
            "overflow_y": null,
            "padding": null,
            "right": null,
            "top": null,
            "visibility": null,
            "width": null
          }
        },
        "9653e428ede649f2ad0c6f48d7aebe8b": {
          "model_module": "@jupyter-widgets/controls",
          "model_name": "DescriptionStyleModel",
          "model_module_version": "1.5.0",
          "state": {
            "_model_module": "@jupyter-widgets/controls",
            "_model_module_version": "1.5.0",
            "_model_name": "DescriptionStyleModel",
            "_view_count": null,
            "_view_module": "@jupyter-widgets/base",
            "_view_module_version": "1.2.0",
            "_view_name": "StyleView",
            "description_width": ""
          }
        },
        "5e58d3d75e1843e8b3803464b5ebadce": {
          "model_module": "@jupyter-widgets/base",
          "model_name": "LayoutModel",
          "model_module_version": "1.2.0",
          "state": {
            "_model_module": "@jupyter-widgets/base",
            "_model_module_version": "1.2.0",
            "_model_name": "LayoutModel",
            "_view_count": null,
            "_view_module": "@jupyter-widgets/base",
            "_view_module_version": "1.2.0",
            "_view_name": "LayoutView",
            "align_content": null,
            "align_items": null,
            "align_self": null,
            "border": null,
            "bottom": null,
            "display": null,
            "flex": null,
            "flex_flow": null,
            "grid_area": null,
            "grid_auto_columns": null,
            "grid_auto_flow": null,
            "grid_auto_rows": null,
            "grid_column": null,
            "grid_gap": null,
            "grid_row": null,
            "grid_template_areas": null,
            "grid_template_columns": null,
            "grid_template_rows": null,
            "height": null,
            "justify_content": null,
            "justify_items": null,
            "left": null,
            "margin": null,
            "max_height": null,
            "max_width": null,
            "min_height": null,
            "min_width": null,
            "object_fit": null,
            "object_position": null,
            "order": null,
            "overflow": null,
            "overflow_x": null,
            "overflow_y": null,
            "padding": null,
            "right": null,
            "top": null,
            "visibility": null,
            "width": null
          }
        },
        "1fbad93665fb48b4a045c911fd851734": {
          "model_module": "@jupyter-widgets/controls",
          "model_name": "DescriptionStyleModel",
          "model_module_version": "1.5.0",
          "state": {
            "_model_module": "@jupyter-widgets/controls",
            "_model_module_version": "1.5.0",
            "_model_name": "DescriptionStyleModel",
            "_view_count": null,
            "_view_module": "@jupyter-widgets/base",
            "_view_module_version": "1.2.0",
            "_view_name": "StyleView",
            "description_width": "150px"
          }
        },
        "7d4adfc2d19b4d0c9b869b5469c281ff": {
          "model_module": "@jupyter-widgets/base",
          "model_name": "LayoutModel",
          "model_module_version": "1.2.0",
          "state": {
            "_model_module": "@jupyter-widgets/base",
            "_model_module_version": "1.2.0",
            "_model_name": "LayoutModel",
            "_view_count": null,
            "_view_module": "@jupyter-widgets/base",
            "_view_module_version": "1.2.0",
            "_view_name": "LayoutView",
            "align_content": null,
            "align_items": null,
            "align_self": null,
            "border": null,
            "bottom": null,
            "display": null,
            "flex": null,
            "flex_flow": null,
            "grid_area": null,
            "grid_auto_columns": null,
            "grid_auto_flow": null,
            "grid_auto_rows": null,
            "grid_column": null,
            "grid_gap": null,
            "grid_row": null,
            "grid_template_areas": null,
            "grid_template_columns": null,
            "grid_template_rows": null,
            "height": null,
            "justify_content": null,
            "justify_items": null,
            "left": null,
            "margin": null,
            "max_height": null,
            "max_width": null,
            "min_height": null,
            "min_width": null,
            "object_fit": null,
            "object_position": null,
            "order": null,
            "overflow": null,
            "overflow_x": null,
            "overflow_y": null,
            "padding": null,
            "right": null,
            "top": null,
            "visibility": null,
            "width": null
          }
        },
        "d254e5ebd09747e09712d7cd76ffda7b": {
          "model_module": "@jupyter-widgets/controls",
          "model_name": "DescriptionStyleModel",
          "model_module_version": "1.5.0",
          "state": {
            "_model_module": "@jupyter-widgets/controls",
            "_model_module_version": "1.5.0",
            "_model_name": "DescriptionStyleModel",
            "_view_count": null,
            "_view_module": "@jupyter-widgets/base",
            "_view_module_version": "1.2.0",
            "_view_name": "StyleView",
            "description_width": "150px"
          }
        },
        "1e574f177229448c849dd59868a8ecf2": {
          "model_module": "@jupyter-widgets/base",
          "model_name": "LayoutModel",
          "model_module_version": "1.2.0",
          "state": {
            "_model_module": "@jupyter-widgets/base",
            "_model_module_version": "1.2.0",
            "_model_name": "LayoutModel",
            "_view_count": null,
            "_view_module": "@jupyter-widgets/base",
            "_view_module_version": "1.2.0",
            "_view_name": "LayoutView",
            "align_content": null,
            "align_items": null,
            "align_self": null,
            "border": null,
            "bottom": null,
            "display": null,
            "flex": null,
            "flex_flow": null,
            "grid_area": null,
            "grid_auto_columns": null,
            "grid_auto_flow": null,
            "grid_auto_rows": null,
            "grid_column": null,
            "grid_gap": null,
            "grid_row": null,
            "grid_template_areas": null,
            "grid_template_columns": null,
            "grid_template_rows": null,
            "height": null,
            "justify_content": null,
            "justify_items": null,
            "left": null,
            "margin": null,
            "max_height": null,
            "max_width": null,
            "min_height": null,
            "min_width": null,
            "object_fit": null,
            "object_position": null,
            "order": null,
            "overflow": null,
            "overflow_x": null,
            "overflow_y": null,
            "padding": null,
            "right": null,
            "top": null,
            "visibility": null,
            "width": null
          }
        },
        "2b135b97cc264e1fb18434b67578e9f9": {
          "model_module": "@jupyter-widgets/controls",
          "model_name": "DescriptionStyleModel",
          "model_module_version": "1.5.0",
          "state": {
            "_model_module": "@jupyter-widgets/controls",
            "_model_module_version": "1.5.0",
            "_model_name": "DescriptionStyleModel",
            "_view_count": null,
            "_view_module": "@jupyter-widgets/base",
            "_view_module_version": "1.2.0",
            "_view_name": "StyleView",
            "description_width": "150px"
          }
        },
        "18d47d1929ff4c249d13230b2c63983e": {
          "model_module": "@jupyter-widgets/base",
          "model_name": "LayoutModel",
          "model_module_version": "1.2.0",
          "state": {
            "_model_module": "@jupyter-widgets/base",
            "_model_module_version": "1.2.0",
            "_model_name": "LayoutModel",
            "_view_count": null,
            "_view_module": "@jupyter-widgets/base",
            "_view_module_version": "1.2.0",
            "_view_name": "LayoutView",
            "align_content": null,
            "align_items": null,
            "align_self": null,
            "border": null,
            "bottom": null,
            "display": null,
            "flex": null,
            "flex_flow": null,
            "grid_area": null,
            "grid_auto_columns": null,
            "grid_auto_flow": null,
            "grid_auto_rows": null,
            "grid_column": null,
            "grid_gap": null,
            "grid_row": null,
            "grid_template_areas": null,
            "grid_template_columns": null,
            "grid_template_rows": null,
            "height": null,
            "justify_content": null,
            "justify_items": null,
            "left": null,
            "margin": null,
            "max_height": null,
            "max_width": null,
            "min_height": null,
            "min_width": null,
            "object_fit": null,
            "object_position": null,
            "order": null,
            "overflow": null,
            "overflow_x": null,
            "overflow_y": null,
            "padding": null,
            "right": null,
            "top": null,
            "visibility": null,
            "width": null
          }
        },
        "feaa6d9fd663460abf52a82aead4f9d4": {
          "model_module": "@jupyter-widgets/controls",
          "model_name": "DescriptionStyleModel",
          "model_module_version": "1.5.0",
          "state": {
            "_model_module": "@jupyter-widgets/controls",
            "_model_module_version": "1.5.0",
            "_model_name": "DescriptionStyleModel",
            "_view_count": null,
            "_view_module": "@jupyter-widgets/base",
            "_view_module_version": "1.2.0",
            "_view_name": "StyleView",
            "description_width": "150px"
          }
        },
        "7626e60ded6f452db7e9a7b2cc407d32": {
          "model_module": "@jupyter-widgets/base",
          "model_name": "LayoutModel",
          "model_module_version": "1.2.0",
          "state": {
            "_model_module": "@jupyter-widgets/base",
            "_model_module_version": "1.2.0",
            "_model_name": "LayoutModel",
            "_view_count": null,
            "_view_module": "@jupyter-widgets/base",
            "_view_module_version": "1.2.0",
            "_view_name": "LayoutView",
            "align_content": null,
            "align_items": null,
            "align_self": null,
            "border": null,
            "bottom": null,
            "display": null,
            "flex": null,
            "flex_flow": null,
            "grid_area": null,
            "grid_auto_columns": null,
            "grid_auto_flow": null,
            "grid_auto_rows": null,
            "grid_column": null,
            "grid_gap": null,
            "grid_row": null,
            "grid_template_areas": null,
            "grid_template_columns": null,
            "grid_template_rows": null,
            "height": null,
            "justify_content": null,
            "justify_items": null,
            "left": null,
            "margin": null,
            "max_height": null,
            "max_width": null,
            "min_height": null,
            "min_width": null,
            "object_fit": null,
            "object_position": null,
            "order": null,
            "overflow": null,
            "overflow_x": null,
            "overflow_y": null,
            "padding": null,
            "right": null,
            "top": null,
            "visibility": null,
            "width": null
          }
        },
        "eebb9652be18409a8cd9a5d6c4815a82": {
          "model_module": "@jupyter-widgets/controls",
          "model_name": "DescriptionStyleModel",
          "model_module_version": "1.5.0",
          "state": {
            "_model_module": "@jupyter-widgets/controls",
            "_model_module_version": "1.5.0",
            "_model_name": "DescriptionStyleModel",
            "_view_count": null,
            "_view_module": "@jupyter-widgets/base",
            "_view_module_version": "1.2.0",
            "_view_name": "StyleView",
            "description_width": "150px"
          }
        },
        "63949f941e9e4fffb96897a5e5cbb905": {
          "model_module": "@jupyter-widgets/base",
          "model_name": "LayoutModel",
          "model_module_version": "1.2.0",
          "state": {
            "_model_module": "@jupyter-widgets/base",
            "_model_module_version": "1.2.0",
            "_model_name": "LayoutModel",
            "_view_count": null,
            "_view_module": "@jupyter-widgets/base",
            "_view_module_version": "1.2.0",
            "_view_name": "LayoutView",
            "align_content": null,
            "align_items": null,
            "align_self": null,
            "border": null,
            "bottom": null,
            "display": null,
            "flex": null,
            "flex_flow": null,
            "grid_area": null,
            "grid_auto_columns": null,
            "grid_auto_flow": null,
            "grid_auto_rows": null,
            "grid_column": null,
            "grid_gap": null,
            "grid_row": null,
            "grid_template_areas": null,
            "grid_template_columns": null,
            "grid_template_rows": null,
            "height": null,
            "justify_content": null,
            "justify_items": null,
            "left": null,
            "margin": null,
            "max_height": null,
            "max_width": null,
            "min_height": null,
            "min_width": null,
            "object_fit": null,
            "object_position": null,
            "order": null,
            "overflow": null,
            "overflow_x": null,
            "overflow_y": null,
            "padding": null,
            "right": null,
            "top": null,
            "visibility": null,
            "width": null
          }
        },
        "cd7b37ddcb064c8594656b9d279da57e": {
          "model_module": "@jupyter-widgets/controls",
          "model_name": "DescriptionStyleModel",
          "model_module_version": "1.5.0",
          "state": {
            "_model_module": "@jupyter-widgets/controls",
            "_model_module_version": "1.5.0",
            "_model_name": "DescriptionStyleModel",
            "_view_count": null,
            "_view_module": "@jupyter-widgets/base",
            "_view_module_version": "1.2.0",
            "_view_name": "StyleView",
            "description_width": "150px"
          }
        },
        "4ecbad205f534f0cb705e9f2b83f1f71": {
          "model_module": "@jupyter-widgets/base",
          "model_name": "LayoutModel",
          "model_module_version": "1.2.0",
          "state": {
            "_model_module": "@jupyter-widgets/base",
            "_model_module_version": "1.2.0",
            "_model_name": "LayoutModel",
            "_view_count": null,
            "_view_module": "@jupyter-widgets/base",
            "_view_module_version": "1.2.0",
            "_view_name": "LayoutView",
            "align_content": null,
            "align_items": null,
            "align_self": null,
            "border": null,
            "bottom": null,
            "display": null,
            "flex": null,
            "flex_flow": null,
            "grid_area": null,
            "grid_auto_columns": null,
            "grid_auto_flow": null,
            "grid_auto_rows": null,
            "grid_column": null,
            "grid_gap": null,
            "grid_row": null,
            "grid_template_areas": null,
            "grid_template_columns": null,
            "grid_template_rows": null,
            "height": null,
            "justify_content": null,
            "justify_items": null,
            "left": null,
            "margin": null,
            "max_height": null,
            "max_width": null,
            "min_height": null,
            "min_width": null,
            "object_fit": null,
            "object_position": null,
            "order": null,
            "overflow": null,
            "overflow_x": null,
            "overflow_y": null,
            "padding": null,
            "right": null,
            "top": null,
            "visibility": null,
            "width": null
          }
        },
        "0fd5da7832174892be31470a48a76c21": {
          "model_module": "@jupyter-widgets/controls",
          "model_name": "DescriptionStyleModel",
          "model_module_version": "1.5.0",
          "state": {
            "_model_module": "@jupyter-widgets/controls",
            "_model_module_version": "1.5.0",
            "_model_name": "DescriptionStyleModel",
            "_view_count": null,
            "_view_module": "@jupyter-widgets/base",
            "_view_module_version": "1.2.0",
            "_view_name": "StyleView",
            "description_width": "150px"
          }
        },
        "de0b85bb0f684782a8adf75635a68182": {
          "model_module": "@jupyter-widgets/base",
          "model_name": "LayoutModel",
          "model_module_version": "1.2.0",
          "state": {
            "_model_module": "@jupyter-widgets/base",
            "_model_module_version": "1.2.0",
            "_model_name": "LayoutModel",
            "_view_count": null,
            "_view_module": "@jupyter-widgets/base",
            "_view_module_version": "1.2.0",
            "_view_name": "LayoutView",
            "align_content": null,
            "align_items": null,
            "align_self": null,
            "border": null,
            "bottom": null,
            "display": null,
            "flex": null,
            "flex_flow": null,
            "grid_area": null,
            "grid_auto_columns": null,
            "grid_auto_flow": null,
            "grid_auto_rows": null,
            "grid_column": null,
            "grid_gap": null,
            "grid_row": null,
            "grid_template_areas": null,
            "grid_template_columns": null,
            "grid_template_rows": null,
            "height": null,
            "justify_content": null,
            "justify_items": null,
            "left": null,
            "margin": null,
            "max_height": null,
            "max_width": null,
            "min_height": null,
            "min_width": null,
            "object_fit": null,
            "object_position": null,
            "order": null,
            "overflow": null,
            "overflow_x": null,
            "overflow_y": null,
            "padding": null,
            "right": null,
            "top": null,
            "visibility": null,
            "width": null
          }
        },
        "674f9581e51b49658d0e991a1d335a8c": {
          "model_module": "@jupyter-widgets/controls",
          "model_name": "DescriptionStyleModel",
          "model_module_version": "1.5.0",
          "state": {
            "_model_module": "@jupyter-widgets/controls",
            "_model_module_version": "1.5.0",
            "_model_name": "DescriptionStyleModel",
            "_view_count": null,
            "_view_module": "@jupyter-widgets/base",
            "_view_module_version": "1.2.0",
            "_view_name": "StyleView",
            "description_width": "150px"
          }
        },
        "7bc83d8104c14a00b9fb3912cfbf8d81": {
          "model_module": "@jupyter-widgets/base",
          "model_name": "LayoutModel",
          "model_module_version": "1.2.0",
          "state": {
            "_model_module": "@jupyter-widgets/base",
            "_model_module_version": "1.2.0",
            "_model_name": "LayoutModel",
            "_view_count": null,
            "_view_module": "@jupyter-widgets/base",
            "_view_module_version": "1.2.0",
            "_view_name": "LayoutView",
            "align_content": null,
            "align_items": null,
            "align_self": null,
            "border": null,
            "bottom": null,
            "display": null,
            "flex": null,
            "flex_flow": null,
            "grid_area": null,
            "grid_auto_columns": null,
            "grid_auto_flow": null,
            "grid_auto_rows": null,
            "grid_column": null,
            "grid_gap": null,
            "grid_row": null,
            "grid_template_areas": null,
            "grid_template_columns": null,
            "grid_template_rows": null,
            "height": null,
            "justify_content": null,
            "justify_items": null,
            "left": null,
            "margin": null,
            "max_height": null,
            "max_width": null,
            "min_height": null,
            "min_width": null,
            "object_fit": null,
            "object_position": null,
            "order": null,
            "overflow": null,
            "overflow_x": null,
            "overflow_y": null,
            "padding": null,
            "right": null,
            "top": null,
            "visibility": null,
            "width": null
          }
        },
        "501e68ac406540208096316e601304dc": {
          "model_module": "@jupyter-widgets/controls",
          "model_name": "DescriptionStyleModel",
          "model_module_version": "1.5.0",
          "state": {
            "_model_module": "@jupyter-widgets/controls",
            "_model_module_version": "1.5.0",
            "_model_name": "DescriptionStyleModel",
            "_view_count": null,
            "_view_module": "@jupyter-widgets/base",
            "_view_module_version": "1.2.0",
            "_view_name": "StyleView",
            "description_width": "150px"
          }
        },
        "798a4de76ced4d8a9cfb22d8a8f8b69e": {
          "model_module": "@jupyter-widgets/base",
          "model_name": "LayoutModel",
          "model_module_version": "1.2.0",
          "state": {
            "_model_module": "@jupyter-widgets/base",
            "_model_module_version": "1.2.0",
            "_model_name": "LayoutModel",
            "_view_count": null,
            "_view_module": "@jupyter-widgets/base",
            "_view_module_version": "1.2.0",
            "_view_name": "LayoutView",
            "align_content": null,
            "align_items": null,
            "align_self": null,
            "border": null,
            "bottom": null,
            "display": null,
            "flex": null,
            "flex_flow": null,
            "grid_area": null,
            "grid_auto_columns": null,
            "grid_auto_flow": null,
            "grid_auto_rows": null,
            "grid_column": null,
            "grid_gap": null,
            "grid_row": null,
            "grid_template_areas": null,
            "grid_template_columns": null,
            "grid_template_rows": null,
            "height": null,
            "justify_content": null,
            "justify_items": null,
            "left": null,
            "margin": null,
            "max_height": null,
            "max_width": null,
            "min_height": null,
            "min_width": null,
            "object_fit": null,
            "object_position": null,
            "order": null,
            "overflow": null,
            "overflow_x": null,
            "overflow_y": null,
            "padding": null,
            "right": null,
            "top": null,
            "visibility": null,
            "width": null
          }
        },
        "3b739814712b4e7b9511118a55919364": {
          "model_module": "@jupyter-widgets/controls",
          "model_name": "ButtonStyleModel",
          "model_module_version": "1.5.0",
          "state": {
            "_model_module": "@jupyter-widgets/controls",
            "_model_module_version": "1.5.0",
            "_model_name": "ButtonStyleModel",
            "_view_count": null,
            "_view_module": "@jupyter-widgets/base",
            "_view_module_version": "1.2.0",
            "_view_name": "StyleView",
            "button_color": null,
            "font_weight": ""
          }
        },
        "d30d26643b9646c1b6f1a1cdee876c5f": {
          "model_module": "@jupyter-widgets/base",
          "model_name": "LayoutModel",
          "model_module_version": "1.2.0",
          "state": {
            "_model_module": "@jupyter-widgets/base",
            "_model_module_version": "1.2.0",
            "_model_name": "LayoutModel",
            "_view_count": null,
            "_view_module": "@jupyter-widgets/base",
            "_view_module_version": "1.2.0",
            "_view_name": "LayoutView",
            "align_content": null,
            "align_items": null,
            "align_self": null,
            "border": null,
            "bottom": null,
            "display": null,
            "flex": null,
            "flex_flow": null,
            "grid_area": null,
            "grid_auto_columns": null,
            "grid_auto_flow": null,
            "grid_auto_rows": null,
            "grid_column": null,
            "grid_gap": null,
            "grid_row": null,
            "grid_template_areas": null,
            "grid_template_columns": null,
            "grid_template_rows": null,
            "height": null,
            "justify_content": null,
            "justify_items": null,
            "left": null,
            "margin": null,
            "max_height": null,
            "max_width": null,
            "min_height": null,
            "min_width": null,
            "object_fit": null,
            "object_position": null,
            "order": null,
            "overflow": null,
            "overflow_x": null,
            "overflow_y": null,
            "padding": null,
            "right": null,
            "top": null,
            "visibility": null,
            "width": null
          }
        }
      }
    }
  },
  "nbformat": 4,
  "nbformat_minor": 5
}